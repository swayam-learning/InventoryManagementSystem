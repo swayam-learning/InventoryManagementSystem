{
 "cells": [
  {
   "cell_type": "code",
   "execution_count": 2,
   "id": "3927c4e5-cdf6-4989-b954-dafc3e86f013",
   "metadata": {},
   "outputs": [],
   "source": [
    "f1 = open(\"products.txt\",\"w+\")"
   ]
  },
  {
   "cell_type": "code",
   "execution_count": 3,
   "id": "cb990b9f-190a-44f2-840d-305d44384090",
   "metadata": {},
   "outputs": [],
   "source": [
    "f1.close()"
   ]
  },
  {
   "cell_type": "markdown",
   "id": "cd06b95e-2af4-4ba8-893f-88bfdd2f8cef",
   "metadata": {},
   "source": [
    "### Product Details\n",
    "#### 1.Product Id\n",
    "#### 2.Product Name\n",
    "#### 3.Price \n",
    "#### 4.Quantity"
   ]
  },
  {
   "cell_type": "code",
   "execution_count": 4,
   "id": "baa8e032-e793-4ee9-9219-d6bac2a287de",
   "metadata": {},
   "outputs": [],
   "source": [
    "f1 = open(\"products.txt\",\"r\")"
   ]
  },
  {
   "cell_type": "code",
   "execution_count": 5,
   "id": "9c586b76-85bb-48e7-9478-d51c2c72d18f",
   "metadata": {},
   "outputs": [],
   "source": [
    "txt = f1.read()"
   ]
  },
  {
   "cell_type": "code",
   "execution_count": 6,
   "id": "04615221-21bc-448d-a4df-9fc9edd3b7a1",
   "metadata": {},
   "outputs": [
    {
     "name": "stdout",
     "output_type": "stream",
     "text": [
      "1,cadbury,20,200\n",
      "2,bournville,50,100\n",
      "3,wafers,20,120\n",
      "4,ice_cream,220,35\n",
      "5,mango cakes,200,25\n"
     ]
    }
   ],
   "source": [
    "print(txt)"
   ]
  },
  {
   "cell_type": "code",
   "execution_count": 7,
   "id": "5df4a588-64a2-45cd-a9ca-b5919ba4d321",
   "metadata": {},
   "outputs": [
    {
     "data": {
      "text/plain": [
       "'1,cadbury,20,200\\n2,bournville,50,100\\n3,wafers,20,120\\n4,ice_cream,220,35\\n5,mango cakes,200,25'"
      ]
     },
     "execution_count": 7,
     "metadata": {},
     "output_type": "execute_result"
    }
   ],
   "source": [
    "txt"
   ]
  },
  {
   "cell_type": "code",
   "execution_count": 8,
   "id": "aba1c969-3690-4e97-a18e-5be484c9c344",
   "metadata": {},
   "outputs": [
    {
     "data": {
      "text/plain": [
       "['1,cadbury,20,200',\n",
       " '2,bournville,50,100',\n",
       " '3,wafers,20,120',\n",
       " '4,ice_cream,220,35',\n",
       " '5,mango cakes,200,25']"
      ]
     },
     "execution_count": 8,
     "metadata": {},
     "output_type": "execute_result"
    }
   ],
   "source": [
    "txt.split(\"\\n\")"
   ]
  },
  {
   "cell_type": "code",
   "execution_count": 9,
   "id": "f19abb10-6d27-4b4d-ae44-d8b9b9ce8bac",
   "metadata": {},
   "outputs": [],
   "source": [
    "f1.close()"
   ]
  },
  {
   "cell_type": "code",
   "execution_count": 19,
   "id": "c69e835e-4f10-4f56-be8d-225d15f3ee3c",
   "metadata": {},
   "outputs": [],
   "source": [
    "f1 = open(\"products.txt\",\"r\")\n",
    "products = f1.read().split(\"\\n\")\n",
    "f1.close()"
   ]
  },
  {
   "cell_type": "code",
   "execution_count": 20,
   "id": "3f9f0d14-7690-4757-82ce-5bc9f74d4506",
   "metadata": {},
   "outputs": [
    {
     "data": {
      "text/plain": [
       "['1,cadbury,20,200',\n",
       " '2,bournville,50,100',\n",
       " '3,wafers,20,120',\n",
       " '4,ice_cream,220,35',\n",
       " '5,mango cakes,200,25']"
      ]
     },
     "execution_count": 20,
     "metadata": {},
     "output_type": "execute_result"
    }
   ],
   "source": [
    "products"
   ]
  },
  {
   "cell_type": "code",
   "execution_count": 56,
   "id": "2ea08f6f-2e66-43ac-8678-edacd6ab1c0a",
   "metadata": {},
   "outputs": [],
   "source": [
    "def decorator_func(og_function):\n",
    "    def wrapper_function(*args):\n",
    "        print(\"Welcome to your Inventory\")\n",
    "        result = og_function()\n",
    "        print(\"thanks for shopping with us\")\n",
    "        return result\n",
    "    return wrapper_function"
   ]
  },
  {
   "cell_type": "code",
   "execution_count": 70,
   "id": "7df94081-5ef9-4d3b-ad0b-604eb1930351",
   "metadata": {},
   "outputs": [],
   "source": [
    "@decorator_func\n",
    "def Product_id_details():\n",
    "    found = False\n",
    "    ui_prod_id = input(\"enter the product id\")\n",
    "    ui_prod_qty = input(\"enter the qty you need\")\n",
    "    for product in products:\n",
    "        if(ui_prod_id == product.split(\",\")[0]):\n",
    "            print(product)\n",
    "            if(int(product.split(\",\")[3]) >= int(ui_prod_qty)):\n",
    "                product.split(\",\")[3] = str(int(product.split(\",\")[3]) - int(ui_prod_qty))\n",
    "       "
   ]
  },
  {
   "cell_type": "code",
   "execution_count": 71,
   "id": "5d346d98-dcc8-4090-b6f5-beb1b5fe4c75",
   "metadata": {},
   "outputs": [
    {
     "name": "stdout",
     "output_type": "stream",
     "text": [
      "Welcome to your Inventory\n"
     ]
    },
    {
     "name": "stdin",
     "output_type": "stream",
     "text": [
      "enter the product id 2\n",
      "enter the qty you need 12\n"
     ]
    },
    {
     "name": "stdout",
     "output_type": "stream",
     "text": [
      "2,bournville,50,100\n",
      "thanks for shopping with us\n"
     ]
    }
   ],
   "source": [
    "Product_id_details()"
   ]
  },
  {
   "cell_type": "code",
   "execution_count": 72,
   "id": "57ab779f-c3da-45cb-a5f3-4ea182ea405a",
   "metadata": {},
   "outputs": [
    {
     "data": {
      "text/plain": [
       "['1,cadbury,20,200',\n",
       " '2,bournville,50,100',\n",
       " '3,wafers,20,120',\n",
       " '4,ice_cream,220,35',\n",
       " '5,mango cakes,200,25']"
      ]
     },
     "execution_count": 72,
     "metadata": {},
     "output_type": "execute_result"
    }
   ],
   "source": [
    "products"
   ]
  },
  {
   "cell_type": "code",
   "execution_count": null,
   "id": "28179fc8-e6e1-4dbf-a6b3-32d79460f5e9",
   "metadata": {},
   "outputs": [],
   "source": []
  }
 ],
 "metadata": {
  "kernelspec": {
   "display_name": "Python 3 (ipykernel)",
   "language": "python",
   "name": "python3"
  },
  "language_info": {
   "codemirror_mode": {
    "name": "ipython",
    "version": 3
   },
   "file_extension": ".py",
   "mimetype": "text/x-python",
   "name": "python",
   "nbconvert_exporter": "python",
   "pygments_lexer": "ipython3",
   "version": "3.11.7"
  }
 },
 "nbformat": 4,
 "nbformat_minor": 5
}
