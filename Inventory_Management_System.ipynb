{
 "cells": [
  {
   "cell_type": "code",
   "execution_count": 1,
   "id": "3927c4e5-cdf6-4989-b954-dafc3e86f013",
   "metadata": {},
   "outputs": [],
   "source": [
    "f1 = open(\"products.txt\",\"w+\")"
   ]
  },
  {
   "cell_type": "code",
   "execution_count": 2,
   "id": "cb990b9f-190a-44f2-840d-305d44384090",
   "metadata": {},
   "outputs": [],
   "source": [
    "f1.close()"
   ]
  },
  {
   "cell_type": "markdown",
   "id": "cd06b95e-2af4-4ba8-893f-88bfdd2f8cef",
   "metadata": {},
   "source": [
    "### Product Details\n",
    "#### 1.Product Id\n",
    "#### 2.Product Name\n",
    "#### 3.Price \n",
    "#### 4.Quantity"
   ]
  },
  {
   "cell_type": "code",
   "execution_count": 3,
   "id": "baa8e032-e793-4ee9-9219-d6bac2a287de",
   "metadata": {},
   "outputs": [],
   "source": [
    "f1 = open(\"products.txt\",\"r\")"
   ]
  },
  {
   "cell_type": "code",
   "execution_count": 4,
   "id": "9c586b76-85bb-48e7-9478-d51c2c72d18f",
   "metadata": {},
   "outputs": [],
   "source": [
    "txt = f1.read()"
   ]
  },
  {
   "cell_type": "code",
   "execution_count": 5,
   "id": "04615221-21bc-448d-a4df-9fc9edd3b7a1",
   "metadata": {},
   "outputs": [
    {
     "name": "stdout",
     "output_type": "stream",
     "text": [
      "1,cadbury,20,200\n",
      "2,bournville,50,100\n",
      "3,wafers,20,120\n",
      "4,ice_cream,220,35\n",
      "5,mango cakes,200,25\n"
     ]
    }
   ],
   "source": [
    "print(txt)"
   ]
  },
  {
   "cell_type": "code",
   "execution_count": 8,
   "id": "08d3c5df-e97b-4865-9334-604445abe20b",
   "metadata": {},
   "outputs": [],
   "source": [
    "f1.close()"
   ]
  },
  {
   "cell_type": "code",
   "execution_count": 1,
   "id": "7df94081-5ef9-4d3b-ad0b-604eb1930351",
   "metadata": {},
   "outputs": [],
   "source": [
    "import csv\n",
    "f1 = open(\"products.txt\",\"r\")\n",
    "products = f1.read().split(\"\\n\")\n",
    "f1.close()\n",
    "def decorator_func(og_function):\n",
    "    def wrapper_function(*args):\n",
    "        print(\"Welcome to your Inventory\")\n",
    "        result = og_function()\n",
    "        print(\"thanks for shopping with us\")\n",
    "        return result\n",
    "    return wrapper_function\n",
    "@decorator_func\n",
    "def Product_id_details():\n",
    "    print(products)\n",
    "    found = False\n",
    "    ui_user_name = input(\"Please enter your name\")\n",
    "    ui_email_id = input(\"Please enter your email-id\")\n",
    "    ui_phone_no = input(\"Please enter your phone no\")\n",
    "    ui_prod_id = input(\"Please enter the product id\")\n",
    "    ui_prod_qty = input(\"enter the qty of product you need\")\n",
    "    updated_product_list = []\n",
    "    for product in products:\n",
    "        product_details=product.split(\",\")\n",
    "        if(ui_prod_id == product_details[0]):\n",
    "            print(product)\n",
    "            if(int(product_details[3]) >= int(ui_prod_qty)):\n",
    "                print(\"------------------------------------------------\")\n",
    "                print(\"Product Name        :\",product_details[1])\n",
    "                print(\"Price of Product    :\",product_details[2])\n",
    "                print(\"Quantity Bought     :\",ui_prod_qty)\n",
    "                print(\"------------------------------------------------\")\n",
    "                print(\"Billing Amount      :\",str(int(product_details[2])*int(ui_prod_qty)))\n",
    "\n",
    "                #updating the product quantity after sales\n",
    "                product_details[3] = str(int(product_details[3]) - int(ui_prod_qty))\n",
    "\n",
    "                f2 = open(\"KitnaSammanBecha.csv\",\"a\")\n",
    "                sales_details = [[\"name\",\"email\",\"ph-no\",\"product_name\",\"qty sold\"],[ui_user_name,ui_email_id,ui_phone_no,product_details[1],ui_prod_qty]]      \n",
    "                writer=csv.writer(f2)\n",
    "                for i in sales_details:\n",
    "                    writer.writerow(i)\n",
    "                f2.close()\n",
    "            else:\n",
    "                # if we don't have the product\n",
    "                print(\"sorry we don't have the asked qty for your product\")\n",
    "                print(\"we have this is much qty left in our inventory :\",product_details[3])\n",
    "                print(\"would like to buy?, choose between yes or no\")\n",
    "                choice= input(\"Please Enter Your Choice\")\n",
    "                if(choice==\"Yes\" or choice==\"Y\" or choice==\"y\"):\n",
    "                    print(\"------------------------------------------------\")\n",
    "                    print(\"Product Name        :\",product_details[1])\n",
    "                    print(\"Price of Product    :\",product_details[2])\n",
    "                    print(\"Quantity Bought     :\",ui_prod_qty)\n",
    "                    print(\"------------------------------------------------\")\n",
    "                    print(\"Billing Amount      :\",str(int(product_details[2])*int(product_details[3])))\n",
    "                    f2 = open(\"KitnaSammanBecha.csv\",\"a\")\n",
    "                    sales_details = [[\"name\",\"email\",\"ph-no\",\"product_name\",\"qty sold\"],[ui_user_name,ui_email_id,ui_phone_no,product_details[1],ui_prod_qty]]      \n",
    "                    writer=csv.writer(f2)\n",
    "                    for i in sales_details:\n",
    "                        writer.writerow(i)\n",
    "                    f2.close()\n",
    "                    product_details[3]=\"0\"\n",
    "                else:\n",
    "                    print(\"We Would Love to Serve You Again\")\n",
    "        # updating my own inventory list\n",
    "        updated_product_list.append(product_details)\n",
    "        \n",
    "    lst=[]\n",
    "    for i in updated_product_list:\n",
    "        prod = i[0] +\",\"+  i[1] +\",\"+ i[2] +\",\"+ i[3] + '\\n'\n",
    "        lst.append(prod)\n",
    "    f3 = open(\"Inventory.txt\",\"w\")\n",
    "    for i in lst:\n",
    "        f3.write(i)\n",
    "    f3.close()           \n",
    "            "
   ]
  },
  {
   "cell_type": "code",
   "execution_count": 2,
   "id": "2910f016-14f8-42cb-8c61-b8ac716c7331",
   "metadata": {},
   "outputs": [
    {
     "name": "stdout",
     "output_type": "stream",
     "text": [
      "Welcome to your Inventory\n",
      "['1,cadbury,20,200', '2,bournville,50,100', '3,wafers,20,120', '4,ice_cream,220,35', '5,mango cakes,200,25']\n"
     ]
    },
    {
     "name": "stdin",
     "output_type": "stream",
     "text": [
      "Please enter your name rahul chand\n",
      "Please enter your email-id rohitchand@gmail.com\n",
      "Please enter your phone no 432543556\n",
      "Please enter the product id 4\n",
      "enter the qty of product you need 23\n"
     ]
    },
    {
     "name": "stdout",
     "output_type": "stream",
     "text": [
      "4,ice_cream,220,35\n",
      "------------------------------------------------\n",
      "Product Name        : ice_cream\n",
      "Price of Product    : 220\n",
      "Quantity Bought     : 23\n",
      "------------------------------------------------\n",
      "Billing Amount      : 5060\n",
      "thanks for shopping with us\n"
     ]
    }
   ],
   "source": [
    "Product_id_details()"
   ]
  },
  {
   "cell_type": "code",
   "execution_count": null,
   "id": "c7d2d2f1-0063-4dc8-b980-23b8b6ffb7a6",
   "metadata": {},
   "outputs": [],
   "source": []
  }
 ],
 "metadata": {
  "kernelspec": {
   "display_name": "Python 3 (ipykernel)",
   "language": "python",
   "name": "python3"
  },
  "language_info": {
   "codemirror_mode": {
    "name": "ipython",
    "version": 3
   },
   "file_extension": ".py",
   "mimetype": "text/x-python",
   "name": "python",
   "nbconvert_exporter": "python",
   "pygments_lexer": "ipython3",
   "version": "3.11.7"
  }
 },
 "nbformat": 4,
 "nbformat_minor": 5
}
